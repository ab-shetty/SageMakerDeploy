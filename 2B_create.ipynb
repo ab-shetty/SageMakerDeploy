{
 "cells": [
  {
   "cell_type": "code",
   "execution_count": 1,
   "id": "179d7641-ad3e-48ab-a96d-f35df6039d6c",
   "metadata": {},
   "outputs": [],
   "source": [
    "from pathlib import Path\n",
    "import os\n",
    "os.environ[\"HF_HUB_ENABLE_HF_TRANSFER\"] = \"1\""
   ]
  },
  {
   "cell_type": "code",
   "execution_count": 3,
   "id": "f8cd7ad4-3346-4a02-8f0a-022358accddf",
   "metadata": {},
   "outputs": [
    {
     "data": {
      "text/plain": [
       "'/home/sagemaker-user/PerceiveAI/SageMaker/VideoLLaMA3-2B'"
      ]
     },
     "execution_count": 3,
     "metadata": {},
     "output_type": "execute_result"
    }
   ],
   "source": [
    "from huggingface_hub import snapshot_download\n",
    "HF_MODEL_ID=\"DAMO-NLP-SG/VideoLLaMA3-2B\"\n",
    "\n",
    "model_dir = Path(HF_MODEL_ID.split(\"/\")[-1])\n",
    "model_dir.mkdir(exist_ok=True)\n",
    "# Download model from Hugging Face into model_dir\n",
    "snapshot_download(HF_MODEL_ID, local_dir=str(model_dir), local_dir_use_symlinks=False)"
   ]
  },
  {
   "cell_type": "code",
   "execution_count": 7,
   "id": "7f5b2711-0f1e-4bde-9e80-1589782569d9",
   "metadata": {},
   "outputs": [
    {
     "name": "stdout",
     "output_type": "stream",
     "text": [
      "/bin/sh: 1: pigz: not found\n",
      "tar: model.tar.gz: Cannot write: Broken pipe\n",
      "tar: Child returned status 127\n",
      "tar: Error is not recoverable: exiting now\n"
     ]
    }
   ],
   "source": [
    "!tar -cf model.tar.gz --use-compress-program=pigz -C \"VideoLLaMA3-2B/\" ."
   ]
  },
  {
   "cell_type": "code",
   "execution_count": null,
   "id": "64a55a3c-c149-411f-99af-baa26e8634d5",
   "metadata": {},
   "outputs": [],
   "source": []
  }
 ],
 "metadata": {
  "kernelspec": {
   "display_name": "Python (myenv)",
   "language": "python",
   "name": "myenv"
  },
  "language_info": {
   "codemirror_mode": {
    "name": "ipython",
    "version": 3
   },
   "file_extension": ".py",
   "mimetype": "text/x-python",
   "name": "python",
   "nbconvert_exporter": "python",
   "pygments_lexer": "ipython3",
   "version": "3.11.11"
  }
 },
 "nbformat": 4,
 "nbformat_minor": 5
}
