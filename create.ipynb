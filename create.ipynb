{
 "cells": [
  {
   "cell_type": "code",
   "execution_count": 1,
   "id": "25e62f95-ea08-4757-bc17-f6e1f01ea60f",
   "metadata": {},
   "outputs": [
    {
     "name": "stdout",
     "output_type": "stream",
     "text": [
      "Writing Dockerfile\n"
     ]
    }
   ],
   "source": [
    "%%writefile Dockerfile\n",
    "FROM 763104351884.dkr.ecr.us-west-2.amazonaws.com/huggingface-pytorch-inference:2.1.0-transformers4.37.0-gpu-py310-cu118-ubuntu20.04\n",
    "RUN pip install torch torchvision torchaudio --index-url https://download.pytorch.org/whl/cu121\n",
    "RUN pip install flash-attn --no-build-isolation\n",
    "RUN pip install transformers==4.46.3 accelerate==1.0.1\n",
    "RUN pip install decord ffmpeg-python imageio opencv-python\n",
    "RUN apt-get update && apt-get install libgl1\n",
    "RUN apt update && apt install ffmpeg"
   ]
  },
  {
   "cell_type": "code",
   "execution_count": 10,
   "id": "31b76333-efae-438a-8fe5-357368f0996b",
   "metadata": {},
   "outputs": [
    {
     "name": "stderr",
     "output_type": "stream",
     "text": [
      "sudo: docker: command not found\n",
      "\n",
      "Unable to locate credentials. You can configure credentials by running \"aws configure\".\n",
      "DEPRECATED: The legacy builder is deprecated and will be removed in a future release.\n",
      "            BuildKit is currently disabled; enable it by removing the DOCKER_BUILDKIT=0\n",
      "            environment-variable.\n",
      "\n"
     ]
    },
    {
     "name": "stdout",
     "output_type": "stream",
     "text": [
      "Sending build context to Docker daemon  20.99kB\n",
      "Step 1/8 : FROM 763104351884.dkr.ecr.us-west-2.amazonaws.com/huggingface-pytorch-inference:2.1.0-transformers4.37.0-gpu-py310-cu118-ubuntu20.04\n"
     ]
    },
    {
     "name": "stderr",
     "output_type": "stream",
     "text": [
      "Head \"https://763104351884.dkr.ecr.us-west-2.amazonaws.com/v2/huggingface-pytorch-inference/manifests/2.1.0-transformers4.37.0-gpu-py310-cu118-ubuntu20.04\": no basic auth credentials\n",
      "Error response from daemon: No such image: huggingface-pytorch-inference:latest\n"
     ]
    }
   ],
   "source": [
    "%%sh\n",
    "\n",
    "# Specify a name and a tag\n",
    "algorithm_name=huggingface-pytorch-inference\n",
    "tag=2.1.0-transformers4.37.0-gpu-py310-cu118-ubuntu20.04\n",
    "\n",
    "account=$(aws sts get-caller-identity --query Account --output text)\n",
    "\n",
    "\n",
    "# Get the region defined in the current configuration (default to us-west-2 if none defined)\n",
    "region=us-west-2\n",
    "\n",
    "fullname=\"${account}.dkr.ecr.${region}.amazonaws.com/${algorithm_name}:${tag}\"\n",
    "\n",
    "# If the repository doesn't exist in ECR, create it.\n",
    "\n",
    "aws ecr describe-repositories --repository-names \"${algorithm_name}\" > /dev/null 2>&1\n",
    "if [ $? -ne 0 ]\n",
    "then\n",
    "aws ecr create-repository --repository-name \"${algorithm_name}\" > /dev/null\n",
    "fi\n",
    "\n",
    "# Log into Docker\n",
    "sudo aws ecr get-login-password --region ${region}|docker login --username AWS --password-stdin ${fullname}\n",
    "\n",
    "# Build the docker image locally with the image name and then push it to ECR\n",
    "# with the full name.\n",
    "docker build -t ${algorithm_name} --network sagemaker .\n",
    "docker tag ${algorithm_name} ${fullname}\n",
    "\n",
    "docker push ${fullname}"
   ]
  }
 ],
 "metadata": {
  "kernelspec": {
   "display_name": "Python 3 (ipykernel)",
   "language": "python",
   "name": "python3"
  },
  "language_info": {
   "codemirror_mode": {
    "name": "ipython",
    "version": 3
   },
   "file_extension": ".py",
   "mimetype": "text/x-python",
   "name": "python",
   "nbconvert_exporter": "python",
   "pygments_lexer": "ipython3",
   "version": "3.11.11"
  }
 },
 "nbformat": 4,
 "nbformat_minor": 5
}
