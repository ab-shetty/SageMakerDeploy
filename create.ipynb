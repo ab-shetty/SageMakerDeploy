{
 "cells": [
  {
   "cell_type": "code",
   "execution_count": 1,
   "execution_state": "idle",
   "id": "25e62f95-ea08-4757-bc17-f6e1f01ea60f",
   "metadata": {},
   "outputs": [
    {
     "name": "stdout",
     "output_type": "stream",
     "text": [
      "Writing Dockerfile\n"
     ]
    }
   ],
   "source": [
    "%%writefile Dockerfile\n",
    "FROM 763104351884.dkr.ecr.us-west-2.amazonaws.com/huggingface-pytorch-inference:2.1.0-transformers4.37.0-gpu-py310-cu118-ubuntu20.04\n",
    "RUN pip install torch torchvision torchaudio --index-url https://download.pytorch.org/whl/cu121\n",
    "RUN pip install flash-attn --no-build-isolation\n",
    "RUN pip install transformers==4.46.3 accelerate==1.0.1\n",
    "RUN pip install decord ffmpeg-python imageio opencv-python\n",
    "RUN apt-get update && apt-get install libgl1\n",
    "RUN apt update && apt install ffmpeg"
   ]
  },
  {
   "cell_type": "code",
   "execution_count": 1,
   "execution_state": "idle",
   "id": "31b76333-efae-438a-8fe5-357368f0996b",
   "metadata": {},
   "outputs": [
    {
     "name": "stderr",
     "output_type": "stream",
     "text": [
      "WARNING! Your password will be stored unencrypted in /home/sagemaker-user/.docker/config.json.\n",
      "gure a credential helper to remove this warning. See\n",
      "dline/login/#credential-stores/reference/comman\n",
      "\n"
     ]
    },
    {
     "name": "stdout",
     "output_type": "stream",
     "text": [
      "Login Succeeded\n"
     ]
    },
    {
     "name": "stderr",
     "output_type": "stream",
     "text": [
      "DEPRECATED: The legacy builder is deprecated and will be removed in a future release.\n",
      "ildKit is currently disabled; enable it by removing the DOCKER_BUILDKIT=0\n",
      "riable.     environment-va\n",
      "\n"
     ]
    },
    {
     "name": "stdout",
     "output_type": "stream",
     "text": [
      "Sending build context to Docker daemon  7.048GB\n",
      "Step 1/13 : FROM 763104351884.dkr.ecr.us-west-2.amazonaws.com/huggingface-pytorch-inference:2.1.0-transformers4.37.0-gpu-py310-cu118-ubuntu20.04\n"
     ]
    },
    {
     "name": "stderr",
     "output_type": "stream",
     "text": [
      "pull access denied for 763104351884.dkr.ecr.us-west-2.amazonaws.com/huggingface-pytorch-inference, repository does not exist or may require 'docker login': denied: Your authorization token has expired. Reauthenticate and try again.\n",
      "Error response from daemon: No such image: huggingface-pytorch-inference-extended:latest\n"
     ]
    },
    {
     "name": "stdout",
     "output_type": "stream",
     "text": [
      "The push refers to repository [084375588776.dkr.ecr.us-west-2.amazonaws.com/huggingface-pytorch-inference-extended]\n"
     ]
    }
   ],
   "source": [
    "%%sh\n",
    "\n",
    "# Specify a name and a tag\n",
    "algorithm_name=huggingface-pytorch-inference-extended\n",
    "tag=1.10.2-transformers4.24.0-gpu-py38-cu113-ubuntu20.04\n",
    "\n",
    "account=$(aws sts get-caller-identity --query Account --output text)\n",
    "\n",
    "\n",
    "# Get the region defined in the current configuration (default to us-west-2 if none defined)\n",
    "region=$(aws configure get region)\n",
    "region=us-west-2\n",
    "\n",
    "fullname=\"${account}.dkr.ecr.${region}.amazonaws.com/${algorithm_name}:${tag}\"\n",
    "\n",
    "# If the repository doesn't exist in ECR, create it.\n",
    "\n",
    "aws ecr describe-repositories --repository-names \"${algorithm_name}\" > /dev/null 2>&1\n",
    "if [ $? -ne 0 ]\n",
    "then\n",
    "aws ecr create-repository --repository-name \"${algorithm_name}\" > /dev/null\n",
    "fi\n",
    "\n",
    "# Log into Docker\n",
    "aws ecr get-login-password --region ${region}|docker login --username AWS --password-stdin ${fullname}\n",
    "\n",
    "# Build the docker image locally with the image name and then push it to ECR\n",
    "# with the full name.\n",
    "\n",
    "docker build -t ${algorithm_name} --network sagemaker .\n",
    "docker tag ${algorithm_name} ${fullname}\n",
    "\n",
    "docker push ${fullname}"
   ]
  },
  {
   "cell_type": "code",
   "execution_count": null,
   "execution_state": "running",
   "id": "2b6ce0bb-9e77-40fb-97ab-6ceb33380ccf",
   "metadata": {},
   "outputs": [
    {
     "name": "stderr",
     "output_type": "stream",
     "text": [
      "/opt/conda/lib/python3.11/site-packages/pydantic/_internal/_fields.py:192: UserWarning: Field name \"json\" in \"MonitoringDatasetFormat\" shadows an attribute in parent \"Base\"\n",
      "  warnings.warn(\n"
     ]
    },
    {
     "name": "stdout",
     "output_type": "stream",
     "text": [
      "sagemaker.config INFO - Not applying SDK defaults from location: /etc/xdg/sagemaker/config.yaml\n",
      "sagemaker.config INFO - Not applying SDK defaults from location: /home/sagemaker-user/.config/sagemaker/config.yaml\n",
      "........................\n",
      "[Container] 2025/03/10 06:50:43.755630 Phase complete: POST_BUILD State: FAILED\n",
      "/10 06:50:43.755648 Phase context status code: COMMAND_EXECUTION_ERROR Message: Error while executing command: docker push $AWS_ACCOUNT_ID.dkr.ecr.$AWS_DEFAULT_REGION.amazonaws.com/$IMAGE_REPO_NAME:$IMAGE_TAG. Reason: exit status 1\n",
      "out to 5 seconds/03/10 06:50:43.799732 Set report auto-discover time\n",
      "[Container] 2025/03/10 06:50:43.801471 Expanding base directory path:  .\n",
      "] 2025/03/10 06:50:43.803117 Assembling file list\n",
      "[Container] 2025/03/10 06:50:43.803129 Expanding .\n",
      "[Container] 2025/03/10 06:50:43.804724 Expanding file paths for base directory .\n",
      "3/10 06:50:43.804739 Assembling file list\n",
      "[Container] 2025/03/10 06:50:43.804743 Expanding **/*\n",
      "tainer] 2025/03/10 06:50:43.814720 No matching auto-discover report paths found\n",
      "10 06:50:43.814835 Report auto-discover file discovery took 0.015103 seconds\n",
      "06:50:43.814874 Phase complete: UPLOAD_ARTIFACTS State: SUCCEEDED\n",
      "4894 Phase context status code:  Message:\n",
      "\n",
      "uggingface-pytorch-inference:2.1.0-transformers4.37.0-gpu-py310-cu118-ubuntu20.04\n"
     ]
    }
   ],
   "source": [
    "%%sh\n",
    "\n",
    "algorithm_name=huggingface-pytorch-inference\n",
    "tag=2.1.0-transformers4.37.0-gpu-py310-cu118-ubuntu20.04\n",
    "\n",
    "sm-docker build --repository ${algorithm_name}:${tag} ."
   ]
  },
  {
   "cell_type": "code",
   "execution_count": null,
   "id": "184e85c1-561d-4acb-a1b7-de0ecc5914a9",
   "metadata": {},
   "outputs": [],
   "source": []
  }
 ],
 "metadata": {
  "kernelspec": {
   "display_name": "Python 3 (ipykernel)",
   "language": "python",
   "name": "python3"
  },
  "language_info": {
   "codemirror_mode": {
    "name": "ipython",
    "version": 3
   },
   "file_extension": ".py",
   "mimetype": "text/x-python",
   "name": "python",
   "nbconvert_exporter": "python",
   "pygments_lexer": "ipython3",
   "version": "3.11.11"
  }
 },
 "nbformat": 4,
 "nbformat_minor": 5
}
